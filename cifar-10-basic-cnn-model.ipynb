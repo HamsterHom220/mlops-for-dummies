{
 "cells": [
  {
   "cell_type": "code",
   "execution_count": 1,
   "id": "adf1ad83",
   "metadata": {
    "_cell_guid": "b1076dfc-b9ad-4769-8c92-a6c4dae69d19",
    "_uuid": "8f2839f25d086af736a60e9eeb907d3b93b6e0e5",
    "execution": {
     "iopub.execute_input": "2024-11-03T14:35:22.640721Z",
     "iopub.status.busy": "2024-11-03T14:35:22.640411Z",
     "iopub.status.idle": "2024-11-03T14:35:42.989488Z",
     "shell.execute_reply": "2024-11-03T14:35:42.988604Z"
    },
    "papermill": {
     "duration": 20.356228,
     "end_time": "2024-11-03T14:35:42.991874",
     "exception": false,
     "start_time": "2024-11-03T14:35:22.635646",
     "status": "completed"
    },
    "tags": [],
    "ExecuteTime": {
     "end_time": "2024-11-25T17:19:00.799014300Z",
     "start_time": "2024-11-25T17:18:54.885285100Z"
    }
   },
   "outputs": [],
   "source": [
    "import numpy as np\n",
    "import torch\n",
    "from torch import nn\n",
    "from torch.utils.data import Dataset, DataLoader, random_split\n",
    "from PIL import Image\n",
    "from torch.nn import functional as F\n",
    "import torchvision\n",
    "from torchvision import datasets, transforms\n",
    "import pandas as pd\n",
    "from torch.optim.lr_scheduler import StepLR\n",
    "import matplotlib.pyplot as plt\n",
    "from tqdm import tqdm  # Import tqdm for progress bar\n",
    "# !pip install py7zr # you need this\n",
    "# import py7zr\n",
    "from io import BytesIO ## this too\n",
    "import os\n"
   ]
  },
  {
   "cell_type": "code",
   "execution_count": 2,
   "id": "5696e473",
   "metadata": {
    "execution": {
     "iopub.execute_input": "2024-11-03T14:35:43.003837Z",
     "iopub.status.busy": "2024-11-03T14:35:43.003222Z",
     "iopub.status.idle": "2024-11-03T14:35:43.065794Z",
     "shell.execute_reply": "2024-11-03T14:35:43.064846Z"
    },
    "papermill": {
     "duration": 0.070574,
     "end_time": "2024-11-03T14:35:43.067806",
     "exception": false,
     "start_time": "2024-11-03T14:35:42.997232",
     "status": "completed"
    },
    "tags": [],
    "ExecuteTime": {
     "end_time": "2024-11-25T17:19:02.189168Z",
     "start_time": "2024-11-25T17:19:02.180637700Z"
    }
   },
   "outputs": [],
   "source": [
    "# Define device (GPU/CPU)\n",
    "device = torch.device('cuda' if torch.cuda.is_available() else 'cpu')"
   ]
  },
  {
   "cell_type": "code",
   "execution_count": 3,
   "id": "e25a5567",
   "metadata": {
    "execution": {
     "iopub.execute_input": "2024-11-03T14:35:43.079289Z",
     "iopub.status.busy": "2024-11-03T14:35:43.078992Z",
     "iopub.status.idle": "2024-11-03T14:35:43.146189Z",
     "shell.execute_reply": "2024-11-03T14:35:43.145450Z"
    },
    "papermill": {
     "duration": 0.075393,
     "end_time": "2024-11-03T14:35:43.148358",
     "exception": false,
     "start_time": "2024-11-03T14:35:43.072965",
     "status": "completed"
    },
    "tags": [],
    "ExecuteTime": {
     "end_time": "2024-11-25T17:19:02.222349700Z",
     "start_time": "2024-11-25T17:19:02.186162300Z"
    }
   },
   "outputs": [],
   "source": [
    "model = nn.Sequential(\n",
    "    # Conv2d( in_channels, out_channels, kernel_size) B,3,32,32\n",
    "    nn.Conv2d(3, 64, 3, stride= 1, padding=1),  nn.BatchNorm2d(64), nn.LeakyReLU(0.1) , nn.MaxPool2d(2, 2), # B,32,16,16\n",
    "    nn.Conv2d(64, 128, 3, stride= 1, padding=1), nn.BatchNorm2d(128), nn.LeakyReLU(0.1), nn.MaxPool2d(2, 2), # B,32,8,8\n",
    "    nn.Conv2d(128, 256, 3, stride= 1, padding=1), nn.BatchNorm2d(256), nn.LeakyReLU(0.1), nn.MaxPool2d(2, 2), # B,32,4,4\n",
    "    nn.Conv2d(256, 512, 3, stride= 1, padding=1 ), nn.BatchNorm2d(512), nn.LeakyReLU(0.1),\n",
    "    nn.AdaptiveAvgPool2d(1), ##like in ResNET\n",
    "    nn.Flatten(),\n",
    "    nn.Linear(512, 512), nn.BatchNorm1d(512), nn.LeakyReLU(0.1),\n",
    "    nn.Linear(512, 10)\n",
    ")\n",
    "\n",
    "optim = torch.optim.Adam(model.parameters(), lr=0.0003, weight_decay=0.0005)\n",
    "scheduler = StepLR(optim, step_size=10, gamma=0.5)"
   ]
  },
  {
   "cell_type": "code",
   "execution_count": 4,
   "id": "31632499",
   "metadata": {
    "execution": {
     "iopub.execute_input": "2024-11-03T14:35:43.159832Z",
     "iopub.status.busy": "2024-11-03T14:35:43.159531Z",
     "iopub.status.idle": "2024-11-03T14:35:43.166498Z",
     "shell.execute_reply": "2024-11-03T14:35:43.165633Z"
    },
    "papermill": {
     "duration": 0.014784,
     "end_time": "2024-11-03T14:35:43.168378",
     "exception": false,
     "start_time": "2024-11-03T14:35:43.153594",
     "status": "completed"
    },
    "tags": [],
    "ExecuteTime": {
     "end_time": "2024-11-25T17:19:02.232996500Z",
     "start_time": "2024-11-25T17:19:02.227987400Z"
    }
   },
   "outputs": [],
   "source": [
    "# Define transformations\n",
    "transform_train = transforms.Compose([\n",
    "    transforms.RandomHorizontalFlip(0.5),\n",
    "    transforms.RandomRotation(15),\n",
    "    transforms.ColorJitter(0.1, 0.1, 0.1),\n",
    "    transforms.RandomCrop(32, padding=4),\n",
    "    transforms.ToTensor(),\n",
    "    transforms.Normalize((0.4914, 0.4822, 0.4465), (0.2470, 0.2435, 0.2616)),\n",
    "    transforms.RandomErasing(p=0.5,scale=(0.02, 0.1),value=1.0, inplace=False),\n",
    "])\n",
    "\n",
    "transform_test = transforms.Compose([\n",
    "    transforms.ToTensor(),\n",
    "    transforms.Normalize((0.4914, 0.4822, 0.4465), (0.2470, 0.2435, 0.2616))\n",
    "])\n",
    "\n",
    "batch_size=64"
   ]
  },
  {
   "cell_type": "code",
   "execution_count": 5,
   "id": "727fbed7",
   "metadata": {
    "execution": {
     "iopub.execute_input": "2024-11-03T14:35:43.179903Z",
     "iopub.status.busy": "2024-11-03T14:35:43.179204Z",
     "iopub.status.idle": "2024-11-03T14:35:50.378708Z",
     "shell.execute_reply": "2024-11-03T14:35:50.377763Z"
    },
    "papermill": {
     "duration": 7.207745,
     "end_time": "2024-11-03T14:35:50.381152",
     "exception": false,
     "start_time": "2024-11-03T14:35:43.173407",
     "status": "completed"
    },
    "tags": [],
    "ExecuteTime": {
     "end_time": "2024-11-25T17:19:03.621069600Z",
     "start_time": "2024-11-25T17:19:02.229996700Z"
    }
   },
   "outputs": [
    {
     "name": "stdout",
     "output_type": "stream",
     "text": [
      "Files already downloaded and verified\n",
      "Files already downloaded and verified\n"
     ]
    }
   ],
   "source": [
    "## Train with the good old torchvision set\n",
    "\n",
    "cifar10 = torchvision.datasets.CIFAR10(root='./data', download=True, train=True, transform=transform_train)\n",
    "cifar10_test = torchvision.datasets.CIFAR10(root='./data', download=True, train=False, transform=transform_test)\n",
    "\n",
    "batch_size = 64 ## increase\n",
    "n = batch_size\n",
    "dataloader = DataLoader(cifar10, batch_size=batch_size, shuffle=True, num_workers=2)\n",
    "dataloader_test = DataLoader(cifar10_test, batch_size=batch_size, shuffle=False, num_workers=2) "
   ]
  },
  {
   "cell_type": "code",
   "execution_count": 6,
   "id": "7588e0c4",
   "metadata": {
    "execution": {
     "iopub.execute_input": "2024-11-03T14:35:50.400994Z",
     "iopub.status.busy": "2024-11-03T14:35:50.400157Z",
     "iopub.status.idle": "2024-11-03T14:35:50.429352Z",
     "shell.execute_reply": "2024-11-03T14:35:50.428486Z"
    },
    "papermill": {
     "duration": 0.040865,
     "end_time": "2024-11-03T14:35:50.431812",
     "exception": false,
     "start_time": "2024-11-03T14:35:50.390947",
     "status": "completed"
    },
    "tags": [],
    "ExecuteTime": {
     "end_time": "2024-11-25T17:19:03.663902800Z",
     "start_time": "2024-11-25T17:19:03.622070600Z"
    }
   },
   "outputs": [
    {
     "data": {
      "text/plain": "Sequential(\n  (0): Conv2d(3, 64, kernel_size=(3, 3), stride=(1, 1), padding=(1, 1))\n  (1): BatchNorm2d(64, eps=1e-05, momentum=0.1, affine=True, track_running_stats=True)\n  (2): LeakyReLU(negative_slope=0.1)\n  (3): MaxPool2d(kernel_size=2, stride=2, padding=0, dilation=1, ceil_mode=False)\n  (4): Conv2d(64, 128, kernel_size=(3, 3), stride=(1, 1), padding=(1, 1))\n  (5): BatchNorm2d(128, eps=1e-05, momentum=0.1, affine=True, track_running_stats=True)\n  (6): LeakyReLU(negative_slope=0.1)\n  (7): MaxPool2d(kernel_size=2, stride=2, padding=0, dilation=1, ceil_mode=False)\n  (8): Conv2d(128, 256, kernel_size=(3, 3), stride=(1, 1), padding=(1, 1))\n  (9): BatchNorm2d(256, eps=1e-05, momentum=0.1, affine=True, track_running_stats=True)\n  (10): LeakyReLU(negative_slope=0.1)\n  (11): MaxPool2d(kernel_size=2, stride=2, padding=0, dilation=1, ceil_mode=False)\n  (12): Conv2d(256, 512, kernel_size=(3, 3), stride=(1, 1), padding=(1, 1))\n  (13): BatchNorm2d(512, eps=1e-05, momentum=0.1, affine=True, track_running_stats=True)\n  (14): LeakyReLU(negative_slope=0.1)\n  (15): AdaptiveAvgPool2d(output_size=1)\n  (16): Flatten(start_dim=1, end_dim=-1)\n  (17): Linear(in_features=512, out_features=512, bias=True)\n  (18): BatchNorm1d(512, eps=1e-05, momentum=0.1, affine=True, track_running_stats=True)\n  (19): LeakyReLU(negative_slope=0.1)\n  (20): Linear(in_features=512, out_features=10, bias=True)\n)"
     },
     "execution_count": 6,
     "metadata": {},
     "output_type": "execute_result"
    }
   ],
   "source": [
    "## xavier init\n",
    "def init_weights_xavier(m):\n",
    "    if isinstance(m, nn.Conv2d) or isinstance(m, nn.Linear):\n",
    "        nn.init.xavier_normal_(m.weight)  # Apply Xavier normal initialization\n",
    "        if m.bias is not None:\n",
    "            nn.init.constant_(m.bias, 0)\n",
    "    elif isinstance(m, nn.BatchNorm2d) or isinstance(m, nn.BatchNorm1d):\n",
    "        nn.init.constant_(m.weight, 1)\n",
    "        nn.init.constant_(m.bias, 0)\n",
    "\n",
    "model.apply(init_weights_xavier)"
   ]
  },
  {
   "cell_type": "code",
   "execution_count": 7,
   "id": "89685d2b",
   "metadata": {
    "execution": {
     "iopub.execute_input": "2024-11-03T14:35:50.458821Z",
     "iopub.status.busy": "2024-11-03T14:35:50.458401Z",
     "iopub.status.idle": "2024-11-03T14:35:50.464331Z",
     "shell.execute_reply": "2024-11-03T14:35:50.463380Z"
    },
    "papermill": {
     "duration": 0.022586,
     "end_time": "2024-11-03T14:35:50.466344",
     "exception": false,
     "start_time": "2024-11-03T14:35:50.443758",
     "status": "completed"
    },
    "tags": [],
    "ExecuteTime": {
     "end_time": "2024-11-25T17:19:03.665410700Z",
     "start_time": "2024-11-25T17:19:03.650511100Z"
    }
   },
   "outputs": [],
   "source": [
    "i = 0\n",
    "losses = []\n",
    "steps = []\n",
    "losses_t = []"
   ]
  },
  {
   "cell_type": "code",
   "execution_count": 8,
   "id": "a36b3a36",
   "metadata": {
    "execution": {
     "iopub.execute_input": "2024-11-03T14:35:50.485353Z",
     "iopub.status.busy": "2024-11-03T14:35:50.484989Z",
     "iopub.status.idle": "2024-11-03T14:50:03.173839Z",
     "shell.execute_reply": "2024-11-03T14:50:03.172617Z"
    },
    "papermill": {
     "duration": 852.701589,
     "end_time": "2024-11-03T14:50:03.176561",
     "exception": false,
     "start_time": "2024-11-03T14:35:50.474972",
     "status": "completed"
    },
    "tags": [],
    "ExecuteTime": {
     "end_time": "2024-11-25T17:31:40.852578900Z",
     "start_time": "2024-11-25T17:19:03.658904300Z"
    }
   },
   "outputs": [
    {
     "name": "stderr",
     "output_type": "stream",
     "text": [
      "100%|██████████| 782/782 [00:26<00:00, 29.85it/s]\n"
     ]
    },
    {
     "name": "stdout",
     "output_type": "stream",
     "text": [
      "Epoch 1: Improved loss to 1.4545461267918882. Saving model checkpoint.\n"
     ]
    },
    {
     "name": "stderr",
     "output_type": "stream",
     "text": [
      " 29%|██▉       | 225/782 [00:11<00:17, 32.02it/s]"
     ]
    },
    {
     "name": "stdout",
     "output_type": "stream",
     "text": [
      "tensor(1.2267, device='cuda:0', grad_fn=<NllLossBackward0>)\n"
     ]
    },
    {
     "name": "stderr",
     "output_type": "stream",
     "text": [
      "100%|██████████| 782/782 [00:25<00:00, 30.67it/s]\n"
     ]
    },
    {
     "name": "stdout",
     "output_type": "stream",
     "text": [
      "Epoch 2: Improved loss to 1.1540832063731026. Saving model checkpoint.\n"
     ]
    },
    {
     "name": "stderr",
     "output_type": "stream",
     "text": [
      " 57%|█████▋    | 442/782 [00:17<00:08, 40.73it/s]"
     ]
    },
    {
     "name": "stdout",
     "output_type": "stream",
     "text": [
      "tensor(1.1456, device='cuda:0', grad_fn=<NllLossBackward0>)\n"
     ]
    },
    {
     "name": "stderr",
     "output_type": "stream",
     "text": [
      " 84%|████████▍ | 659/782 [00:23<00:03, 39.68it/s]"
     ]
    },
    {
     "name": "stdout",
     "output_type": "stream",
     "text": [
      "tensor(0.8342, device='cuda:0', grad_fn=<NllLossBackward0>)\n"
     ]
    },
    {
     "name": "stderr",
     "output_type": "stream",
     "text": [
      "100%|██████████| 782/782 [00:27<00:00, 28.56it/s]\n"
     ]
    },
    {
     "name": "stdout",
     "output_type": "stream",
     "text": [
      "Epoch 4: Improved loss to 0.9394427178156041. Saving model checkpoint.\n"
     ]
    },
    {
     "name": "stderr",
     "output_type": "stream",
     "text": [
      "100%|██████████| 782/782 [00:26<00:00, 29.46it/s]\n"
     ]
    },
    {
     "name": "stdout",
     "output_type": "stream",
     "text": [
      "Epoch 3: Improved loss to 1.0276750999948252. Saving model checkpoint.\n"
     ]
    },
    {
     "name": "stderr",
     "output_type": "stream",
     "text": [
      "100%|██████████| 782/782 [00:27<00:00, 28.54it/s]\n"
     ]
    },
    {
     "name": "stdout",
     "output_type": "stream",
     "text": [
      "Epoch 5: Improved loss to 0.878786430029613. Saving model checkpoint.\n"
     ]
    },
    {
     "name": "stderr",
     "output_type": "stream",
     "text": [
      " 12%|█▏        | 95/782 [00:12<00:15, 45.69it/s] "
     ]
    },
    {
     "name": "stdout",
     "output_type": "stream",
     "text": [
      "tensor(0.8706, device='cuda:0', grad_fn=<NllLossBackward0>)\n"
     ]
    },
    {
     "name": "stderr",
     "output_type": "stream",
     "text": [
      "100%|██████████| 782/782 [00:26<00:00, 29.09it/s]\n"
     ]
    },
    {
     "name": "stdout",
     "output_type": "stream",
     "text": [
      "Epoch 6: Improved loss to 0.8328781476639726. Saving model checkpoint.\n"
     ]
    },
    {
     "name": "stderr",
     "output_type": "stream",
     "text": [
      " 40%|████      | 315/782 [00:13<00:09, 49.25it/s]"
     ]
    },
    {
     "name": "stdout",
     "output_type": "stream",
     "text": [
      "tensor(1.1115, device='cuda:0', grad_fn=<NllLossBackward0>)\n"
     ]
    },
    {
     "name": "stderr",
     "output_type": "stream",
     "text": [
      "100%|██████████| 782/782 [00:24<00:00, 32.35it/s]\n"
     ]
    },
    {
     "name": "stdout",
     "output_type": "stream",
     "text": [
      "Epoch 7: Improved loss to 0.794901913427331. Saving model checkpoint.\n"
     ]
    },
    {
     "name": "stderr",
     "output_type": "stream",
     "text": [
      " 68%|██████▊   | 531/782 [00:17<00:05, 49.32it/s]"
     ]
    },
    {
     "name": "stdout",
     "output_type": "stream",
     "text": [
      "tensor(1.0413, device='cuda:0', grad_fn=<NllLossBackward0>)\n"
     ]
    },
    {
     "name": "stderr",
     "output_type": "stream",
     "text": [
      "100%|██████████| 782/782 [00:22<00:00, 34.54it/s]\n"
     ]
    },
    {
     "name": "stdout",
     "output_type": "stream",
     "text": [
      "Epoch 8: Improved loss to 0.7632275067098305. Saving model checkpoint.\n"
     ]
    },
    {
     "name": "stderr",
     "output_type": "stream",
     "text": [
      " 96%|█████████▌| 752/782 [00:21<00:00, 50.71it/s]"
     ]
    },
    {
     "name": "stdout",
     "output_type": "stream",
     "text": [
      "tensor(0.9215, device='cuda:0', grad_fn=<NllLossBackward0>)\n"
     ]
    },
    {
     "name": "stderr",
     "output_type": "stream",
     "text": [
      "100%|██████████| 782/782 [00:22<00:00, 35.13it/s]\n"
     ]
    },
    {
     "name": "stdout",
     "output_type": "stream",
     "text": [
      "Epoch 9: Improved loss to 0.7353054869281667. Saving model checkpoint.\n"
     ]
    },
    {
     "name": "stderr",
     "output_type": "stream",
     "text": [
      "100%|██████████| 782/782 [00:22<00:00, 35.24it/s]\n"
     ]
    },
    {
     "name": "stdout",
     "output_type": "stream",
     "text": [
      "Epoch 10: Improved loss to 0.713337823786699. Saving model checkpoint.\n"
     ]
    },
    {
     "name": "stderr",
     "output_type": "stream",
     "text": [
      " 24%|██▎       | 185/782 [00:10<00:13, 45.06it/s]"
     ]
    },
    {
     "name": "stdout",
     "output_type": "stream",
     "text": [
      "tensor(0.7976, device='cuda:0', grad_fn=<NllLossBackward0>)\n"
     ]
    },
    {
     "name": "stderr",
     "output_type": "stream",
     "text": [
      "100%|██████████| 782/782 [00:24<00:00, 31.47it/s]\n"
     ]
    },
    {
     "name": "stdout",
     "output_type": "stream",
     "text": [
      "Epoch 11: Improved loss to 0.6254211406192511. Saving model checkpoint.\n"
     ]
    },
    {
     "name": "stderr",
     "output_type": "stream",
     "text": [
      " 52%|█████▏    | 405/782 [00:15<00:07, 50.91it/s]"
     ]
    },
    {
     "name": "stdout",
     "output_type": "stream",
     "text": [
      "tensor(0.5156, device='cuda:0', grad_fn=<NllLossBackward0>)\n"
     ]
    },
    {
     "name": "stderr",
     "output_type": "stream",
     "text": [
      "100%|██████████| 782/782 [00:23<00:00, 32.77it/s]\n"
     ]
    },
    {
     "name": "stdout",
     "output_type": "stream",
     "text": [
      "Epoch 12: Improved loss to 0.6032663841000603. Saving model checkpoint.\n"
     ]
    },
    {
     "name": "stderr",
     "output_type": "stream",
     "text": [
      " 79%|███████▉  | 619/782 [00:19<00:03, 50.73it/s]"
     ]
    },
    {
     "name": "stdout",
     "output_type": "stream",
     "text": [
      "tensor(0.5385, device='cuda:0', grad_fn=<NllLossBackward0>)\n"
     ]
    },
    {
     "name": "stderr",
     "output_type": "stream",
     "text": [
      "100%|██████████| 782/782 [00:23<00:00, 33.35it/s]\n"
     ]
    },
    {
     "name": "stdout",
     "output_type": "stream",
     "text": [
      "Epoch 13: Improved loss to 0.5931512111288202. Saving model checkpoint.\n"
     ]
    },
    {
     "name": "stderr",
     "output_type": "stream",
     "text": [
      "100%|██████████| 782/782 [00:24<00:00, 31.70it/s]\n"
     ]
    },
    {
     "name": "stdout",
     "output_type": "stream",
     "text": [
      "Epoch 14: Improved loss to 0.5740850150508954. Saving model checkpoint.\n"
     ]
    },
    {
     "name": "stderr",
     "output_type": "stream",
     "text": [
      "  7%|▋         | 56/782 [00:08<00:22, 32.47it/s] "
     ]
    },
    {
     "name": "stdout",
     "output_type": "stream",
     "text": [
      "tensor(0.7359, device='cuda:0', grad_fn=<NllLossBackward0>)\n"
     ]
    },
    {
     "name": "stderr",
     "output_type": "stream",
     "text": [
      "100%|██████████| 782/782 [00:23<00:00, 32.65it/s]\n"
     ]
    },
    {
     "name": "stdout",
     "output_type": "stream",
     "text": [
      "Epoch 15: Improved loss to 0.5662208212458569. Saving model checkpoint.\n"
     ]
    },
    {
     "name": "stderr",
     "output_type": "stream",
     "text": [
      " 35%|███▌      | 276/782 [00:12<00:10, 50.37it/s]"
     ]
    },
    {
     "name": "stdout",
     "output_type": "stream",
     "text": [
      "tensor(0.5975, device='cuda:0', grad_fn=<NllLossBackward0>)\n"
     ]
    },
    {
     "name": "stderr",
     "output_type": "stream",
     "text": [
      "100%|██████████| 782/782 [00:22<00:00, 34.41it/s]\n"
     ]
    },
    {
     "name": "stdout",
     "output_type": "stream",
     "text": [
      "Epoch 16: Improved loss to 0.5561913684048616. Saving model checkpoint.\n"
     ]
    },
    {
     "name": "stderr",
     "output_type": "stream",
     "text": [
      " 63%|██████▎   | 494/782 [00:17<00:05, 48.04it/s]"
     ]
    },
    {
     "name": "stdout",
     "output_type": "stream",
     "text": [
      "tensor(0.6672, device='cuda:0', grad_fn=<NllLossBackward0>)\n"
     ]
    },
    {
     "name": "stderr",
     "output_type": "stream",
     "text": [
      "100%|██████████| 782/782 [00:23<00:00, 32.86it/s]\n"
     ]
    },
    {
     "name": "stdout",
     "output_type": "stream",
     "text": [
      "Epoch 17: Improved loss to 0.5496999099660103. Saving model checkpoint.\n"
     ]
    },
    {
     "name": "stderr",
     "output_type": "stream",
     "text": [
      " 91%|█████████▏| 714/782 [00:20<00:01, 50.26it/s]"
     ]
    },
    {
     "name": "stdout",
     "output_type": "stream",
     "text": [
      "tensor(0.6734, device='cuda:0', grad_fn=<NllLossBackward0>)\n"
     ]
    },
    {
     "name": "stderr",
     "output_type": "stream",
     "text": [
      "100%|██████████| 782/782 [00:22<00:00, 34.37it/s]\n"
     ]
    },
    {
     "name": "stdout",
     "output_type": "stream",
     "text": [
      "Epoch 18: Improved loss to 0.5417533831675644. Saving model checkpoint.\n"
     ]
    },
    {
     "name": "stderr",
     "output_type": "stream",
     "text": [
      "100%|██████████| 782/782 [00:22<00:00, 35.41it/s]\n"
     ]
    },
    {
     "name": "stdout",
     "output_type": "stream",
     "text": [
      "Epoch 19: Improved loss to 0.5285031745958206. Saving model checkpoint.\n"
     ]
    },
    {
     "name": "stderr",
     "output_type": "stream",
     "text": [
      " 19%|█▉        | 151/782 [00:09<00:12, 51.30it/s]"
     ]
    },
    {
     "name": "stdout",
     "output_type": "stream",
     "text": [
      "tensor(0.4961, device='cuda:0', grad_fn=<NllLossBackward0>)\n"
     ]
    },
    {
     "name": "stderr",
     "output_type": "stream",
     "text": [
      "100%|██████████| 782/782 [00:21<00:00, 35.65it/s]\n"
     ]
    },
    {
     "name": "stdout",
     "output_type": "stream",
     "text": [
      "Epoch 20: Improved loss to 0.5217245589284336. Saving model checkpoint.\n"
     ]
    },
    {
     "name": "stderr",
     "output_type": "stream",
     "text": [
      " 46%|████▋     | 363/782 [00:13<00:08, 51.44it/s]"
     ]
    },
    {
     "name": "stdout",
     "output_type": "stream",
     "text": [
      "tensor(0.3318, device='cuda:0', grad_fn=<NllLossBackward0>)\n"
     ]
    },
    {
     "name": "stderr",
     "output_type": "stream",
     "text": [
      "100%|██████████| 782/782 [00:22<00:00, 35.02it/s]\n"
     ]
    },
    {
     "name": "stdout",
     "output_type": "stream",
     "text": [
      "Epoch 21: Improved loss to 0.4728846221095156. Saving model checkpoint.\n"
     ]
    },
    {
     "name": "stderr",
     "output_type": "stream",
     "text": [
      " 75%|███████▍  | 586/782 [00:17<00:03, 49.51it/s]"
     ]
    },
    {
     "name": "stdout",
     "output_type": "stream",
     "text": [
      "tensor(0.4495, device='cuda:0', grad_fn=<NllLossBackward0>)\n"
     ]
    },
    {
     "name": "stderr",
     "output_type": "stream",
     "text": [
      "100%|██████████| 782/782 [00:22<00:00, 35.47it/s]\n"
     ]
    },
    {
     "name": "stdout",
     "output_type": "stream",
     "text": [
      "Epoch 22: Improved loss to 0.4532283574266507. Saving model checkpoint.\n"
     ]
    },
    {
     "name": "stderr",
     "output_type": "stream",
     "text": [
      "100%|██████████| 782/782 [00:22<00:00, 35.11it/s]\n"
     ]
    },
    {
     "name": "stdout",
     "output_type": "stream",
     "text": [
      "Epoch 23: Improved loss to 0.4517119226172147. Saving model checkpoint.\n"
     ]
    },
    {
     "name": "stderr",
     "output_type": "stream",
     "text": [
      "  2%|▏         | 18/782 [00:06<01:54,  6.69it/s] "
     ]
    },
    {
     "name": "stdout",
     "output_type": "stream",
     "text": [
      "tensor(0.4866, device='cuda:0', grad_fn=<NllLossBackward0>)\n"
     ]
    },
    {
     "name": "stderr",
     "output_type": "stream",
     "text": [
      "100%|██████████| 782/782 [00:22<00:00, 35.24it/s]\n"
     ]
    },
    {
     "name": "stdout",
     "output_type": "stream",
     "text": [
      "Epoch 24: Improved loss to 0.444150087130649. Saving model checkpoint.\n"
     ]
    },
    {
     "name": "stderr",
     "output_type": "stream",
     "text": [
      " 31%|███       | 240/782 [00:11<00:10, 51.71it/s]"
     ]
    },
    {
     "name": "stdout",
     "output_type": "stream",
     "text": [
      "tensor(0.4134, device='cuda:0', grad_fn=<NllLossBackward0>)\n"
     ]
    },
    {
     "name": "stderr",
     "output_type": "stream",
     "text": [
      "100%|██████████| 782/782 [00:22<00:00, 35.21it/s]\n"
     ]
    },
    {
     "name": "stdout",
     "output_type": "stream",
     "text": [
      "Epoch 25: Improved loss to 0.4372571224484907. Saving model checkpoint.\n"
     ]
    },
    {
     "name": "stderr",
     "output_type": "stream",
     "text": [
      " 58%|█████▊    | 457/782 [00:15<00:06, 50.48it/s]"
     ]
    },
    {
     "name": "stdout",
     "output_type": "stream",
     "text": [
      "tensor(0.3915, device='cuda:0', grad_fn=<NllLossBackward0>)\n"
     ]
    },
    {
     "name": "stderr",
     "output_type": "stream",
     "text": [
      "100%|██████████| 782/782 [00:22<00:00, 35.03it/s]\n"
     ]
    },
    {
     "name": "stdout",
     "output_type": "stream",
     "text": [
      "Epoch 26: Improved loss to 0.43261676687566214. Saving model checkpoint.\n"
     ]
    },
    {
     "name": "stderr",
     "output_type": "stream",
     "text": [
      " 86%|████████▋ | 675/782 [00:20<00:02, 46.73it/s]"
     ]
    },
    {
     "name": "stdout",
     "output_type": "stream",
     "text": [
      "tensor(0.4558, device='cuda:0', grad_fn=<NllLossBackward0>)\n"
     ]
    },
    {
     "name": "stderr",
     "output_type": "stream",
     "text": [
      "100%|██████████| 782/782 [00:23<00:00, 34.00it/s]\n"
     ]
    },
    {
     "name": "stdout",
     "output_type": "stream",
     "text": [
      "Epoch 27: Improved loss to 0.4222554991312344. Saving model checkpoint.\n"
     ]
    },
    {
     "name": "stderr",
     "output_type": "stream",
     "text": [
      "100%|██████████| 782/782 [00:23<00:00, 33.46it/s]\n"
     ]
    },
    {
     "name": "stdout",
     "output_type": "stream",
     "text": [
      "Epoch 28: Improved loss to 0.4182611697584467. Saving model checkpoint.\n"
     ]
    },
    {
     "name": "stderr",
     "output_type": "stream",
     "text": [
      " 14%|█▍        | 111/782 [00:08<00:13, 48.97it/s]"
     ]
    },
    {
     "name": "stdout",
     "output_type": "stream",
     "text": [
      "tensor(0.5793, device='cuda:0', grad_fn=<NllLossBackward0>)\n"
     ]
    },
    {
     "name": "stderr",
     "output_type": "stream",
     "text": [
      "100%|██████████| 782/782 [00:22<00:00, 34.47it/s]\n"
     ]
    },
    {
     "name": "stdout",
     "output_type": "stream",
     "text": [
      "Epoch 29: Improved loss to 0.417812861349729. Saving model checkpoint.\n"
     ]
    },
    {
     "name": "stderr",
     "output_type": "stream",
     "text": [
      " 42%|████▏     | 329/782 [00:13<00:09, 47.59it/s]"
     ]
    },
    {
     "name": "stdout",
     "output_type": "stream",
     "text": [
      "tensor(0.6918, device='cuda:0', grad_fn=<NllLossBackward0>)\n"
     ]
    },
    {
     "name": "stderr",
     "output_type": "stream",
     "text": [
      "100%|██████████| 782/782 [00:22<00:00, 34.52it/s]\n"
     ]
    },
    {
     "name": "stdout",
     "output_type": "stream",
     "text": [
      "Epoch 30: Improved loss to 0.4122428425475764. Saving model checkpoint.\n"
     ]
    },
    {
     "name": "stderr",
     "output_type": "stream",
     "text": [
      " 70%|███████   | 548/782 [00:18<00:04, 49.88it/s]"
     ]
    },
    {
     "name": "stdout",
     "output_type": "stream",
     "text": [
      "tensor(0.4715, device='cuda:0', grad_fn=<NllLossBackward0>)\n"
     ]
    },
    {
     "name": "stderr",
     "output_type": "stream",
     "text": [
      "100%|██████████| 782/782 [00:23<00:00, 33.31it/s]\n"
     ]
    },
    {
     "name": "stdout",
     "output_type": "stream",
     "text": [
      "Epoch 31: Improved loss to 0.38301587813650556. Saving model checkpoint.\n"
     ]
    },
    {
     "name": "stderr",
     "output_type": "stream",
     "text": [
      " 98%|█████████▊| 763/782 [00:21<00:00, 49.46it/s]"
     ]
    },
    {
     "name": "stdout",
     "output_type": "stream",
     "text": [
      "tensor(0.4537, device='cuda:0', grad_fn=<NllLossBackward0>)\n"
     ]
    },
    {
     "name": "stderr",
     "output_type": "stream",
     "text": [
      "100%|██████████| 782/782 [00:22<00:00, 34.16it/s]"
     ]
    },
    {
     "name": "stdout",
     "output_type": "stream",
     "text": [
      "Epoch 32: Improved loss to 0.37620318595253294. Saving model checkpoint.\n"
     ]
    },
    {
     "name": "stderr",
     "output_type": "stream",
     "text": [
      "\n"
     ]
    }
   ],
   "source": [
    "import torch\n",
    "import torch.nn.functional as F\n",
    "from tqdm import tqdm\n",
    "\n",
    "# Initialize variables to track the best loss and patience\n",
    "best_loss = float('inf')\n",
    "patience = 5  # Number of epochs to wait for improvement before stopping\n",
    "patience_counter = 0\n",
    "\n",
    "for epoch in range(32):\n",
    "    epoch_loss = 0\n",
    "    for batch in tqdm(dataloader):\n",
    "        i += 1\n",
    "        x = batch[0].to('cuda')\n",
    "        y = batch[1].to('cuda')\n",
    "        model = model.to('cuda')\n",
    "\n",
    "        logits = model(x)\n",
    "        loss = F.cross_entropy(logits, y)\n",
    "        optim.zero_grad()\n",
    "\n",
    "        loss.backward()\n",
    "        optim.step()\n",
    "\n",
    "        epoch_loss += loss.item()\n",
    "        losses.append(loss.item())\n",
    "        losses_t.append(loss.detach())\n",
    "        steps.append(i)\n",
    "\n",
    "        if i % 1000 == 0:\n",
    "            print(loss)\n",
    "\n",
    "    # Calculate the average loss for the epoch\n",
    "    epoch_loss /= len(dataloader)\n",
    "\n",
    "    # Check if the current epoch loss is better than the best loss\n",
    "    if epoch_loss < best_loss:\n",
    "        best_loss = epoch_loss\n",
    "        patience_counter = 0\n",
    "        # Save the model checkpoint\n",
    "        torch.save(model.state_dict(), 'best_model_checkpoint.pth')\n",
    "        print(f\"Epoch {epoch + 1}: Improved loss to {best_loss}. Saving model checkpoint.\")\n",
    "    else:\n",
    "        patience_counter += 1\n",
    "        print(f\"Epoch {epoch + 1}: Loss did not improve. Patience counter at {patience_counter}.\")\n",
    "\n",
    "    # Check if patience has been exceeded\n",
    "    if patience_counter >= patience:\n",
    "        print(f\"Epoch {epoch + 1}: Loss has not improved for {patience} epochs. Stopping training.\")\n",
    "        break\n",
    "\n",
    "    scheduler.step()\n"
   ]
  },
  {
   "cell_type": "code",
   "execution_count": 13,
   "id": "41d8ead3",
   "metadata": {
    "execution": {
     "iopub.execute_input": "2024-11-03T14:50:03.201890Z",
     "iopub.status.busy": "2024-11-03T14:50:03.201529Z",
     "iopub.status.idle": "2024-11-03T14:50:03.576229Z",
     "shell.execute_reply": "2024-11-03T14:50:03.575247Z"
    },
    "papermill": {
     "duration": 0.38896,
     "end_time": "2024-11-03T14:50:03.578328",
     "exception": false,
     "start_time": "2024-11-03T14:50:03.189368",
     "status": "completed"
    },
    "tags": [],
    "ExecuteTime": {
     "end_time": "2024-11-25T17:34:57.474493500Z",
     "start_time": "2024-11-25T17:34:57.323377300Z"
    }
   },
   "outputs": [
    {
     "data": {
      "text/plain": "[<matplotlib.lines.Line2D at 0x1e40bc85f50>]"
     },
     "execution_count": 13,
     "metadata": {},
     "output_type": "execute_result"
    },
    {
     "data": {
      "text/plain": "<Figure size 640x480 with 1 Axes>",
      "image/png": "[encoded data removed]"
     },
     "metadata": {},
     "output_type": "display_data"
    }
   ],
   "source": [
    "plt.plot(steps, losses)"
   ]
  },
  {
   "cell_type": "code",
   "execution_count": 14,
   "id": "ae1c6e36",
   "metadata": {
    "execution": {
     "iopub.execute_input": "2024-11-03T14:50:03.601632Z",
     "iopub.status.busy": "2024-11-03T14:50:03.600988Z",
     "iopub.status.idle": "2024-11-03T14:50:34.079796Z",
     "shell.execute_reply": "2024-11-03T14:50:34.078493Z"
    },
    "papermill": {
     "duration": 30.506106,
     "end_time": "2024-11-03T14:50:34.095376",
     "exception": false,
     "start_time": "2024-11-03T14:50:03.589270",
     "status": "completed"
    },
    "tags": [],
    "ExecuteTime": {
     "end_time": "2024-11-25T17:35:26.370638200Z",
     "start_time": "2024-11-25T17:35:00.432340800Z"
    }
   },
   "outputs": [
    {
     "name": "stdout",
     "output_type": "stream",
     "text": [
      "Training Accuracy: 0.87256\n"
     ]
    }
   ],
   "source": [
    "total_correct = 0\n",
    "total_predictions = 0\n",
    "\n",
    "# Loop over training dataset\n",
    "for x_batch, y_batch in dataloader:\n",
    "    logits = model(x_batch.to(\"cuda\")) # Forward pass on the mini-batch\n",
    "    loss = F.cross_entropy(logits.cpu(), y_batch) # Compute loss\n",
    "\n",
    "    # Calculate predictions for the batch\n",
    "    pred_labels = torch.max(logits, dim=1).indices\n",
    "\n",
    "    # Update total correct predictions and total predictions\n",
    "    total_correct += (y_batch == pred_labels.cpu()).sum().item()\n",
    "    total_predictions += y_batch.size(0)\n",
    "\n",
    "# Calculate overall accuracy\n",
    "overall_accuracy = total_correct / total_predictions\n",
    "print(f\"Training Accuracy: {overall_accuracy}\")"
   ]
  },
  {
   "cell_type": "code",
   "execution_count": 15,
   "id": "17c054a3",
   "metadata": {
    "execution": {
     "iopub.execute_input": "2024-11-03T14:50:34.120245Z",
     "iopub.status.busy": "2024-11-03T14:50:34.119909Z",
     "iopub.status.idle": "2024-11-03T14:50:36.003785Z",
     "shell.execute_reply": "2024-11-03T14:50:36.002343Z"
    },
    "papermill": {
     "duration": 1.898345,
     "end_time": "2024-11-03T14:50:36.006147",
     "exception": false,
     "start_time": "2024-11-03T14:50:34.107802",
     "status": "completed"
    },
    "tags": [],
    "ExecuteTime": {
     "end_time": "2024-11-25T17:35:33.317913300Z",
     "start_time": "2024-11-25T17:35:26.367634100Z"
    }
   },
   "outputs": [
    {
     "name": "stdout",
     "output_type": "stream",
     "text": [
      "Testing Accuracy: 0.8611\n"
     ]
    }
   ],
   "source": [
    "total_correct = 0\n",
    "total_predictions = 0\n",
    "\n",
    "# Loop over testing dataset\n",
    "for x_batch, y_batch in dataloader_test:\n",
    "    logits = model(x_batch.to(\"cuda\")) # Forward pass on the mini-batch\n",
    "    loss = F.cross_entropy(logits.cpu(), y_batch) # Compute loss\n",
    "\n",
    "    # Calculate predictions for the batch\n",
    "    pred_labels = torch.max(logits, dim=1).indices\n",
    "\n",
    "    # Update total correct predictions and total predictions\n",
    "    total_correct += (y_batch == pred_labels.cpu()).sum().item()\n",
    "    total_predictions += y_batch.size(0)\n",
    "\n",
    "# Calculate overall accuracy and print it out.\n",
    "overall_accuracy = total_correct / total_predictions\n",
    "#DON'T FORGET TO PRINT OUT YOUR TESTING ACCURACY\n",
    "print(f\"Testing Accuracy: {overall_accuracy}\")"
   ]
  },
  {
   "cell_type": "code",
   "execution_count": 12,
   "id": "00b345c9",
   "metadata": {
    "execution": {
     "iopub.execute_input": "2024-11-03T14:50:36.032645Z",
     "iopub.status.busy": "2024-11-03T14:50:36.032253Z",
     "iopub.status.idle": "2024-11-03T14:54:27.554291Z",
     "shell.execute_reply": "2024-11-03T14:54:27.553080Z"
    },
    "papermill": {
     "duration": 231.537102,
     "end_time": "2024-11-03T14:54:27.556397",
     "exception": false,
     "start_time": "2024-11-03T14:50:36.019295",
     "status": "completed"
    },
    "tags": [],
    "ExecuteTime": {
     "end_time": "2024-11-25T17:32:14.709740700Z",
     "start_time": "2024-11-25T17:32:14.708023400Z"
    }
   },
   "outputs": [],
   "source": [
    "# # Create submission file with predictions for test images from .7z archive\n",
    "# test_filenames = []\n",
    "# test_images = []\n",
    "# \n",
    "# with py7zr.SevenZipFile('/kaggle/input/cifar-10/test.7z', mode='r') as z:\n",
    "#     for name, file in z.readall().items():\n",
    "#         if name.endswith('.png'):\n",
    "#             img = Image.open(BytesIO(file.read()))\n",
    "#             test_images.append(transform_test(img))\n",
    "#             test_filenames.append(name)\n",
    "# \n",
    "# test_images = torch.stack(test_images)\n",
    "# test_loader = DataLoader(test_images, batch_size=batch_size, shuffle=False)\n",
    "# \n",
    "# # Prediction and CSV creation\n",
    "# classes = ('airplane', 'automobile', 'bird', 'cat', 'deer', 'dog', 'frog', 'horse', 'ship', 'truck')\n",
    "# \n",
    "# result = []\n",
    "# with torch.no_grad():\n",
    "#     model.eval()\n",
    "#     for inputs in tqdm(test_loader):\n",
    "#         inputs = inputs.to(device)\n",
    "#         outputs = model(inputs)\n",
    "#         _, predicted = outputs.max(1)\n",
    "#         result.extend(predicted.cpu().numpy())\n",
    "# \n",
    "# # Create submission DataFrame\n",
    "# submission_df = pd.DataFrame({\n",
    "#     'id': [os.path.basename(f).replace('.png', '') for f in test_filenames],  # Remove .png from filenames\n",
    "#     'label': [classes[label] for label in result]\n",
    "# })\n",
    "# \n",
    "# # Save submission file\n",
    "# submission_df.to_csv('/kaggle/working/submission.csv', index=False)\n",
    "# \n",
    "# print(\"Submission file created successfully!\")"
   ]
  }
 ],
 "metadata": {
  "kaggle": {
   "accelerator": "gpu",
   "dataSources": [
    {
     "databundleVersionId": 46718,
     "sourceId": 3649,
     "sourceType": "competition"
    }
   ],
   "dockerImageVersionId": 30786,
   "isGpuEnabled": true,
   "isInternetEnabled": true,
   "language": "python",
   "sourceType": "notebook"
  },
  "kernelspec": {
   "display_name": "Python 3",
   "language": "python",
   "name": "python3"
  },
  "language_info": {
   "codemirror_mode": {
    "name": "ipython",
    "version": 3
   },
   "file_extension": ".py",
   "mimetype": "text/x-python",
   "name": "python",
   "nbconvert_exporter": "python",
   "pygments_lexer": "ipython3",
   "version": "3.10.14"
  },
  "papermill": {
   "default_parameters": {},
   "duration": 1149.792833,
   "end_time": "2024-11-03T14:54:29.800841",
   "environment_variables": {},
   "exception": null,
   "input_path": "__notebook__.ipynb",
   "output_path": "__notebook__.ipynb",
   "parameters": {},
   "start_time": "2024-11-03T14:35:20.008008",
   "version": "2.6.0"
  }
 },
 "nbformat": 4,
 "nbformat_minor": 5
}
